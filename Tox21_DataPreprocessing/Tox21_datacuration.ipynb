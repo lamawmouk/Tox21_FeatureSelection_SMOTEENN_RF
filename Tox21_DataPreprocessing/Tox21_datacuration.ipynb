{
 "cells": [
  {
   "cell_type": "code",
   "execution_count": 1,
   "metadata": {},
   "outputs": [],
   "source": [
    "#Import the necessary libraries\n",
    "import os\n",
    "import sys\n",
    "import numpy as np\n",
    "import pandas as pd\n",
    "from rdkit.Chem import PandasTools\n",
    "from rdkit import Chem\n",
    "from duplicate_molecules import *"
   ]
  },
  {
   "cell_type": "markdown",
   "metadata": {},
   "source": [
    "### Training labels dataset"
   ]
  },
  {
   "cell_type": "code",
   "execution_count": 2,
   "metadata": {
    "scrolled": true
   },
   "outputs": [
    {
     "name": "stdout",
     "output_type": "stream",
     "text": [
      "(11764, 13)\n"
     ]
    }
   ],
   "source": [
    "#Load the training dataset containing the molecules and 12 assay labels\n",
    "combinedDF = pd.DataFrame(columns=['SMILES','ID'])\n",
    "for filename in os.listdir(os.getcwd()):\n",
    "    if filename.endswith('.smiles'):\n",
    "        df = pd.read_csv(filename, header=None, sep='\\t')\n",
    "        df.columns=['SMILES','ID',filename[:-7]]\n",
    "        combinedDF = combinedDF.merge(df, on=['SMILES', 'ID'], how='outer')\n",
    "combinedDF.drop('ID', axis=1, inplace=True)\n",
    "df_train=combinedDF.rename(columns={\"SMILES\": \"smiles\"})\n",
    "print(df_train.shape)"
   ]
  },
  {
   "cell_type": "code",
   "execution_count": 3,
   "metadata": {},
   "outputs": [
    {
     "data": {
      "text/html": [
       "<div>\n",
       "<style scoped>\n",
       "    .dataframe tbody tr th:only-of-type {\n",
       "        vertical-align: middle;\n",
       "    }\n",
       "\n",
       "    .dataframe tbody tr th {\n",
       "        vertical-align: top;\n",
       "    }\n",
       "\n",
       "    .dataframe thead th {\n",
       "        text-align: right;\n",
       "    }\n",
       "</style>\n",
       "<table border=\"1\" class=\"dataframe\">\n",
       "  <thead>\n",
       "    <tr style=\"text-align: right;\">\n",
       "      <th></th>\n",
       "      <th>smiles</th>\n",
       "      <th>nr-ahr</th>\n",
       "      <th>nr-ar-lbd</th>\n",
       "      <th>nr-ar</th>\n",
       "      <th>nr-aromatase</th>\n",
       "      <th>nr-er-lbd</th>\n",
       "      <th>nr-er</th>\n",
       "      <th>nr-ppar-gamma</th>\n",
       "      <th>sr-are</th>\n",
       "      <th>sr-atad5</th>\n",
       "      <th>sr-hse</th>\n",
       "      <th>sr-mmp</th>\n",
       "      <th>sr-p53</th>\n",
       "    </tr>\n",
       "  </thead>\n",
       "  <tbody>\n",
       "    <tr>\n",
       "      <th>0</th>\n",
       "      <td>CC(O)=O.[H][C@@]12CCC3=CC(=CC=C3[C@@]1(C)CCC[C...</td>\n",
       "      <td>0.0</td>\n",
       "      <td>NaN</td>\n",
       "      <td>0.0</td>\n",
       "      <td>NaN</td>\n",
       "      <td>NaN</td>\n",
       "      <td>NaN</td>\n",
       "      <td>NaN</td>\n",
       "      <td>NaN</td>\n",
       "      <td>NaN</td>\n",
       "      <td>NaN</td>\n",
       "      <td>NaN</td>\n",
       "      <td>NaN</td>\n",
       "    </tr>\n",
       "    <tr>\n",
       "      <th>1</th>\n",
       "      <td>Cl.C[C@@H](NCCCC1=CC=CC(=C1)C(F)(F)F)C2=CC=CC3...</td>\n",
       "      <td>0.0</td>\n",
       "      <td>NaN</td>\n",
       "      <td>0.0</td>\n",
       "      <td>NaN</td>\n",
       "      <td>NaN</td>\n",
       "      <td>NaN</td>\n",
       "      <td>NaN</td>\n",
       "      <td>NaN</td>\n",
       "      <td>NaN</td>\n",
       "      <td>NaN</td>\n",
       "      <td>NaN</td>\n",
       "      <td>NaN</td>\n",
       "    </tr>\n",
       "  </tbody>\n",
       "</table>\n",
       "</div>"
      ],
      "text/plain": [
       "                                              smiles  nr-ahr  nr-ar-lbd  \\\n",
       "0  CC(O)=O.[H][C@@]12CCC3=CC(=CC=C3[C@@]1(C)CCC[C...     0.0        NaN   \n",
       "1  Cl.C[C@@H](NCCCC1=CC=CC(=C1)C(F)(F)F)C2=CC=CC3...     0.0        NaN   \n",
       "\n",
       "   nr-ar  nr-aromatase  nr-er-lbd  nr-er  nr-ppar-gamma  sr-are  sr-atad5  \\\n",
       "0    0.0           NaN        NaN    NaN            NaN     NaN       NaN   \n",
       "1    0.0           NaN        NaN    NaN            NaN     NaN       NaN   \n",
       "\n",
       "   sr-hse  sr-mmp  sr-p53  \n",
       "0     NaN     NaN     NaN  \n",
       "1     NaN     NaN     NaN  "
      ]
     },
     "execution_count": 3,
     "metadata": {},
     "output_type": "execute_result"
    }
   ],
   "source": [
    "df_train.head(2)"
   ]
  },
  {
   "cell_type": "markdown",
   "metadata": {},
   "source": [
    "### Evaluation labels dataset"
   ]
  },
  {
   "cell_type": "code",
   "execution_count": 4,
   "metadata": {},
   "outputs": [
    {
     "name": "stdout",
     "output_type": "stream",
     "text": [
      "(295, 13)\n"
     ]
    },
    {
     "name": "stderr",
     "output_type": "stream",
     "text": [
      "RDKit ERROR: [22:38:45] Explicit valence for atom # 20 O, 3, is greater than permitted\n",
      "RDKit ERROR: [22:38:45] ERROR: Could not sanitize molecule ending on line 17054\n"
     ]
    }
   ],
   "source": [
    "#Load the evaluation dataset containing the molecules and 12 assay labels\n",
    "df_leaderbd = PandasTools.LoadSDF('tox21_10k_challenge_test.sdf')\n",
    "keep_cols = ['NR-AR', 'NR-AR-LBD', 'NR-AhR', 'NR-Aromatase', 'NR-ER', 'NR-ER-LBD', 'NR-PPAR-gamma',\n",
    "            'SR-ARE', 'SR-ATAD5', 'SR-HSE', 'SR-MMP', 'SR-p53', 'ROMol']\n",
    "df_leaderbd = df_leaderbd[keep_cols]\n",
    "\n",
    "#Get the Smiles from the ROMOl\n",
    "df_leaderbd['smiles'] = df_leaderbd['ROMol'].apply(Chem.MolToSmiles)\n",
    "#Drop the ROMol column \n",
    "df_leaderbd = df_leaderbd.drop('ROMol', axis=1)\n",
    "\n",
    "#Move the smiles to be the first column\n",
    "cols = df_leaderbd.columns.tolist()\n",
    "cols = cols[-1:] + cols[:-1]  \n",
    "df_leaderbd = df_leaderbd[cols]\n",
    "df_leaderbd.columns= df_leaderbd.columns.str.lower()\n",
    "print(df_leaderbd.shape)"
   ]
  },
  {
   "cell_type": "code",
   "execution_count": 5,
   "metadata": {},
   "outputs": [
    {
     "data": {
      "text/html": [
       "<div>\n",
       "<style scoped>\n",
       "    .dataframe tbody tr th:only-of-type {\n",
       "        vertical-align: middle;\n",
       "    }\n",
       "\n",
       "    .dataframe tbody tr th {\n",
       "        vertical-align: top;\n",
       "    }\n",
       "\n",
       "    .dataframe thead th {\n",
       "        text-align: right;\n",
       "    }\n",
       "</style>\n",
       "<table border=\"1\" class=\"dataframe\">\n",
       "  <thead>\n",
       "    <tr style=\"text-align: right;\">\n",
       "      <th></th>\n",
       "      <th>smiles</th>\n",
       "      <th>nr-ar</th>\n",
       "      <th>nr-ar-lbd</th>\n",
       "      <th>nr-ahr</th>\n",
       "      <th>nr-aromatase</th>\n",
       "      <th>nr-er</th>\n",
       "      <th>nr-er-lbd</th>\n",
       "      <th>nr-ppar-gamma</th>\n",
       "      <th>sr-are</th>\n",
       "      <th>sr-atad5</th>\n",
       "      <th>sr-hse</th>\n",
       "      <th>sr-mmp</th>\n",
       "      <th>sr-p53</th>\n",
       "    </tr>\n",
       "  </thead>\n",
       "  <tbody>\n",
       "    <tr>\n",
       "      <th>0</th>\n",
       "      <td>CNc1ncnc2c1ncn2[C@@H]1O[C@H](CO)C(O)[C@H]1O</td>\n",
       "      <td>0</td>\n",
       "      <td>0</td>\n",
       "      <td>0</td>\n",
       "      <td>NaN</td>\n",
       "      <td>0</td>\n",
       "      <td>0</td>\n",
       "      <td>0</td>\n",
       "      <td>0</td>\n",
       "      <td>1</td>\n",
       "      <td>0</td>\n",
       "      <td>0</td>\n",
       "      <td>0</td>\n",
       "    </tr>\n",
       "    <tr>\n",
       "      <th>1</th>\n",
       "      <td>Oc1cc(O)cc(/C=C/c2ccc(O)c(O)c2)c1</td>\n",
       "      <td>0</td>\n",
       "      <td>0</td>\n",
       "      <td>NaN</td>\n",
       "      <td>NaN</td>\n",
       "      <td>1</td>\n",
       "      <td>NaN</td>\n",
       "      <td>0</td>\n",
       "      <td>NaN</td>\n",
       "      <td>1</td>\n",
       "      <td>NaN</td>\n",
       "      <td>NaN</td>\n",
       "      <td>1</td>\n",
       "    </tr>\n",
       "  </tbody>\n",
       "</table>\n",
       "</div>"
      ],
      "text/plain": [
       "                                        smiles nr-ar nr-ar-lbd nr-ahr  \\\n",
       "0  CNc1ncnc2c1ncn2[C@@H]1O[C@H](CO)C(O)[C@H]1O     0         0      0   \n",
       "1            Oc1cc(O)cc(/C=C/c2ccc(O)c(O)c2)c1     0         0    NaN   \n",
       "\n",
       "  nr-aromatase nr-er nr-er-lbd nr-ppar-gamma sr-are sr-atad5 sr-hse sr-mmp  \\\n",
       "0          NaN     0         0             0      0        1      0      0   \n",
       "1          NaN     1       NaN             0    NaN        1    NaN    NaN   \n",
       "\n",
       "  sr-p53  \n",
       "0      0  \n",
       "1      1  "
      ]
     },
     "execution_count": 5,
     "metadata": {},
     "output_type": "execute_result"
    }
   ],
   "source": [
    "df_leaderbd.head(2)"
   ]
  },
  {
   "cell_type": "markdown",
   "metadata": {},
   "source": [
    "### Testing labels dataset"
   ]
  },
  {
   "cell_type": "code",
   "execution_count": 6,
   "metadata": {},
   "outputs": [],
   "source": [
    "#Load the testing dataset containing the molecules and 12 assay labels\n",
    "df_score_smiles = pd.read_csv('tox21_10k_challenge_score.smi', sep='\\t') # has the Sample ID and SMILES columns \n",
    "df_score_results = pd.read_csv('tox21_10k_challenge_score.csv', sep='\\t') # has the Sample ID and 12 assay labels columns"
   ]
  },
  {
   "cell_type": "code",
   "execution_count": 7,
   "metadata": {},
   "outputs": [
    {
     "name": "stdout",
     "output_type": "stream",
     "text": [
      "(647, 13)\n"
     ]
    }
   ],
   "source": [
    "#Combine the df_score_smiles and df_score_results to create the testing labels dataset\n",
    "df_test=pd.concat([df_score_smiles, df_score_results]).groupby('Sample ID', as_index=False, sort=False).first().fillna('NA')\n",
    "df_test = df_test.drop('Sample ID', axis=1).replace('x', np.nan)\n",
    "df_test.rename(columns={'#SMILES': 'smiles'}, inplace=True)\n",
    "df_test.columns= df_test.columns.str.lower()\n",
    "print(df_test.shape)"
   ]
  },
  {
   "cell_type": "code",
   "execution_count": 8,
   "metadata": {},
   "outputs": [
    {
     "data": {
      "text/html": [
       "<div>\n",
       "<style scoped>\n",
       "    .dataframe tbody tr th:only-of-type {\n",
       "        vertical-align: middle;\n",
       "    }\n",
       "\n",
       "    .dataframe tbody tr th {\n",
       "        vertical-align: top;\n",
       "    }\n",
       "\n",
       "    .dataframe thead th {\n",
       "        text-align: right;\n",
       "    }\n",
       "</style>\n",
       "<table border=\"1\" class=\"dataframe\">\n",
       "  <thead>\n",
       "    <tr style=\"text-align: right;\">\n",
       "      <th></th>\n",
       "      <th>smiles</th>\n",
       "      <th>nr-ahr</th>\n",
       "      <th>nr-ar</th>\n",
       "      <th>nr-ar-lbd</th>\n",
       "      <th>nr-aromatase</th>\n",
       "      <th>nr-er</th>\n",
       "      <th>nr-er-lbd</th>\n",
       "      <th>nr-ppar-gamma</th>\n",
       "      <th>sr-are</th>\n",
       "      <th>sr-atad5</th>\n",
       "      <th>sr-hse</th>\n",
       "      <th>sr-mmp</th>\n",
       "      <th>sr-p53</th>\n",
       "    </tr>\n",
       "  </thead>\n",
       "  <tbody>\n",
       "    <tr>\n",
       "      <th>0</th>\n",
       "      <td>OC(=O)\\C=C/C(O)=O.C[C@]12CC=C3[C@@H](CCC4=CC(=...</td>\n",
       "      <td>0</td>\n",
       "      <td>1</td>\n",
       "      <td>NaN</td>\n",
       "      <td>0</td>\n",
       "      <td>0</td>\n",
       "      <td>0</td>\n",
       "      <td>0</td>\n",
       "      <td>NaN</td>\n",
       "      <td>0</td>\n",
       "      <td>0</td>\n",
       "      <td>NaN</td>\n",
       "      <td>0</td>\n",
       "    </tr>\n",
       "    <tr>\n",
       "      <th>1</th>\n",
       "      <td>[Na+].NC1=NC=NC2=C1N=C(Br)N2C1OC2CO[P@]([O-])(...</td>\n",
       "      <td>0</td>\n",
       "      <td>1</td>\n",
       "      <td>NaN</td>\n",
       "      <td>NaN</td>\n",
       "      <td>0</td>\n",
       "      <td>0</td>\n",
       "      <td>0</td>\n",
       "      <td>0</td>\n",
       "      <td>0</td>\n",
       "      <td>0</td>\n",
       "      <td>0</td>\n",
       "      <td>0</td>\n",
       "    </tr>\n",
       "  </tbody>\n",
       "</table>\n",
       "</div>"
      ],
      "text/plain": [
       "                                              smiles nr-ahr nr-ar nr-ar-lbd  \\\n",
       "0  OC(=O)\\C=C/C(O)=O.C[C@]12CC=C3[C@@H](CCC4=CC(=...      0     1       NaN   \n",
       "1  [Na+].NC1=NC=NC2=C1N=C(Br)N2C1OC2CO[P@]([O-])(...      0     1       NaN   \n",
       "\n",
       "  nr-aromatase nr-er nr-er-lbd nr-ppar-gamma sr-are sr-atad5 sr-hse sr-mmp  \\\n",
       "0            0     0         0             0    NaN        0      0    NaN   \n",
       "1          NaN     0         0             0      0        0      0      0   \n",
       "\n",
       "  sr-p53  \n",
       "0      0  \n",
       "1      0  "
      ]
     },
     "execution_count": 8,
     "metadata": {},
     "output_type": "execute_result"
    }
   ],
   "source": [
    "df_test.head(2)"
   ]
  },
  {
   "cell_type": "markdown",
   "metadata": {},
   "source": [
    "### Standardization step"
   ]
  },
  {
   "cell_type": "code",
   "execution_count": 9,
   "metadata": {},
   "outputs": [],
   "source": [
    "import molvs as mv\n",
    "#Function to get parent of a smiles\n",
    "def get_parent_smile(smile):\n",
    "    try:\n",
    "        st = mv.Standardizer()\n",
    "        mol = Chem.MolFromSmiles(smile)\n",
    "        smts = Chem.MolFromSmarts(\"[!#1&!#5&!#6&!#7&!#8&!#9&!#14&!#15&!#16&!#17&!#34&!#35&!#53]~*\")\n",
    "        if mol.HasSubstructMatch(smts) == False:\n",
    "            mols = st.charge_parent(mol)\n",
    "            return Chem.MolToSmiles(mols)\n",
    "        else:\n",
    "            #print(smile)\n",
    "            return 'problematic'\n",
    "    except:\n",
    "        return 'NaN'\n",
    "    \n",
    "#Function to clean and standardize the data\n",
    "def clean_data_(data):\n",
    "    #remove missing smiles\n",
    "    data = data[~(data['smiles'].isnull())]\n",
    "    \n",
    "    #Standardize and get parent with molvs\n",
    "    data[\"smiles_parent\"] = data.smiles.apply(get_parent_smile)\n",
    "    data = data[~(data['smiles_parent'] == \"NaN\")]\n",
    "    \n",
    "    #Identifiy compounds that fail SMILE conversion\n",
    "    pCompounds = data[data['smiles_parent']=='problematic']['smiles']\n",
    "    data = data[~(data['smiles_parent'] == 'problematic')]\n",
    "    print(len(pCompounds))\n",
    "    return data"
   ]
  },
  {
   "cell_type": "code",
   "execution_count": 10,
   "metadata": {},
   "outputs": [
    {
     "name": "stdout",
     "output_type": "stream",
     "text": [
      "3\n",
      "(292, 14)\n"
     ]
    },
    {
     "name": "stderr",
     "output_type": "stream",
     "text": [
      "RDKit ERROR: [22:38:45] ERROR: Explicit valence for atom # 20 O, 3, is greater than permitted\n",
      "RDKit ERROR: [22:38:51] Explicit valence for atom # 3 Si, 8, is greater than permitted\n",
      "RDKit ERROR: [22:38:54] Explicit valence for atom # 0 Cl, 2, is greater than permitted\n",
      "RDKit ERROR: [22:38:56] Can't kekulize mol.  Unkekulized atoms: 3 10\n",
      "RDKit ERROR: \n",
      "RDKit ERROR: [22:38:56] Can't kekulize mol.  Unkekulized atoms: 3 10\n",
      "RDKit ERROR: \n",
      "RDKit ERROR: [22:38:58] Explicit valence for atom # 1 B, 5, is greater than permitted\n",
      "RDKit ERROR: [22:38:59] Explicit valence for atom # 2 Cl, 2, is greater than permitted\n",
      "RDKit WARNING: [22:39:00] WARNING: not removing hydrogen atom without neighbors\n",
      "RDKit WARNING: [22:39:00] WARNING: not removing hydrogen atom without neighbors\n",
      "RDKit ERROR: [22:39:00] Explicit valence for atom # 1 B, 5, is greater than permitted\n",
      "RDKit ERROR: [22:39:03] Explicit valence for atom # 3 Si, 8, is greater than permitted\n",
      "RDKit ERROR: [22:39:03] Explicit valence for atom # 1 B, 5, is greater than permitted\n",
      "RDKit ERROR: [22:39:03] Explicit valence for atom # 1 B, 5, is greater than permitted\n",
      "RDKit ERROR: [22:39:05] Explicit valence for atom # 7 Mg, 4, is greater than permitted\n",
      "RDKit ERROR: [22:39:13] Can't kekulize mol.  Unkekulized atoms: 3 10\n",
      "RDKit ERROR: \n",
      "RDKit ERROR: [22:39:13] Can't kekulize mol.  Unkekulized atoms: 3 10\n",
      "RDKit ERROR: \n",
      "RDKit ERROR: [22:39:15] Explicit valence for atom # 0 Cl, 2, is greater than permitted\n"
     ]
    },
    {
     "name": "stdout",
     "output_type": "stream",
     "text": [
      "126\n",
      "(11628, 14)\n"
     ]
    },
    {
     "name": "stderr",
     "output_type": "stream",
     "text": [
      "RDKit ERROR: [22:39:16] Can't kekulize mol.  Unkekulized atoms: 4 5 6 7 10\n",
      "RDKit ERROR: \n",
      "RDKit ERROR: [22:39:16] Can't kekulize mol.  Unkekulized atoms: 6 7 8 9 10 11 12 13 14\n",
      "RDKit ERROR: \n"
     ]
    },
    {
     "name": "stdout",
     "output_type": "stream",
     "text": [
      "14\n",
      "(631, 14)\n"
     ]
    }
   ],
   "source": [
    "#Standardization and obtaining parent smiles\n",
    "clean_eval = clean_data_(df_leaderbd) #292 molecules\n",
    "print(clean_eval.shape)\n",
    "clean_train=clean_data_(df_train) #11628 molecules\n",
    "print(clean_train.shape)\n",
    "clean_test = clean_data_(df_test) #631 molecules\n",
    "print(clean_test.shape)"
   ]
  },
  {
   "cell_type": "markdown",
   "metadata": {},
   "source": [
    "### Removing duplicates and inconsistent labels"
   ]
  },
  {
   "cell_type": "code",
   "execution_count": 11,
   "metadata": {},
   "outputs": [],
   "source": [
    "#Function to remove inconsistent and duplicate molecules\n",
    "'''\n",
    "If a compound is duplicated, record the most occuring activity\n",
    "If the activities for the duplicates occur same number of times e.g. 4 duplicates with 2 active and 2 inactives, such compound (all its duplicates) are ambiguous and removed.\n",
    "If there is no duplicate leave the compound.\n",
    "'''\n",
    "def moder(x):\n",
    "    m = pd.Series.mode(x) \n",
    "    #print(m)\n",
    "    if len(m) == 1: \n",
    "        return m[0]\n",
    "assays = ['nr-ar', 'nr-ar-lbd', 'nr-ahr', 'nr-aromatase', 'nr-er', 'nr-er-lbd', 'nr-ppar-gamma', 'sr-are', 'sr-atad5', 'sr-hse', 'sr-mmp', 'sr-p53']\n",
    "def duplicate_label(data):\n",
    "    dataDF = pd.DataFrame(columns=['smiles_parent'])\n",
    "    for i in assays:\n",
    "        #print(i)\n",
    "        a = data[['smiles_parent', i]]\n",
    "        #print(a)\n",
    "        res = a.groupby('smiles_parent')[i].apply(moder)\n",
    "        #print(res)\n",
    "        dataDF = dataDF.merge(res, on=['smiles_parent'], how='outer')\n",
    "    return dataDF       "
   ]
  },
  {
   "cell_type": "code",
   "execution_count": 12,
   "metadata": {},
   "outputs": [
    {
     "name": "stdout",
     "output_type": "stream",
     "text": [
      "(11920, 14)\n"
     ]
    },
    {
     "name": "stderr",
     "output_type": "stream",
     "text": [
      "/projects/academic/rams/miramouk/software/python/anacondapy37/envs/mycondaenv/lib/python3.7/site-packages/pandas/core/algorithms.py:944: UserWarning: Unable to sort modes: '<' not supported between instances of 'str' and 'float'\n",
      "  warn(f\"Unable to sort modes: {err}\")\n"
     ]
    },
    {
     "data": {
      "text/plain": [
       "False"
      ]
     },
     "execution_count": 12,
     "metadata": {},
     "output_type": "execute_result"
    }
   ],
   "source": [
    "#Combine the train and evaluation datasets\n",
    "df_train_eval = pd.concat([clean_train, clean_eval])\n",
    "print(df_train_eval.shape)\n",
    "#Remove duplicates\n",
    "df_train_eval=duplicate_label(df_train_eval)\n",
    "#Replace the Nones with Nans\n",
    "train_set= df_train_eval.replace(to_replace=[None], value=np.nan)\n",
    "#Check for any duplicates\n",
    "train_set['smiles_parent'].duplicated().any()"
   ]
  },
  {
   "cell_type": "code",
   "execution_count": 13,
   "metadata": {},
   "outputs": [],
   "source": [
    "train_set.to_csv(\"tox21_train_preproccessed.csv\")"
   ]
  },
  {
   "cell_type": "code",
   "execution_count": 14,
   "metadata": {},
   "outputs": [
    {
     "name": "stdout",
     "output_type": "stream",
     "text": [
      "(628, 13)\n"
     ]
    },
    {
     "data": {
      "text/plain": [
       "False"
      ]
     },
     "execution_count": 14,
     "metadata": {},
     "output_type": "execute_result"
    }
   ],
   "source": [
    "#Remove duplicates\n",
    "testDF = duplicate_label(clean_test)\n",
    "print(testDF.shape)\n",
    "#Replace the Nones with Nans\n",
    "testing_data= testDF.replace(to_replace=[None], value=np.nan)\n",
    "#Check for any duplicates\n",
    "testing_data['smiles_parent'].duplicated().any()"
   ]
  },
  {
   "cell_type": "code",
   "execution_count": 15,
   "metadata": {},
   "outputs": [],
   "source": [
    "testing_data.to_csv(\"tox21_test_preproccessed.csv\")"
   ]
  }
 ],
 "metadata": {
  "kernelspec": {
   "display_name": "python (mycondaenv)",
   "language": "python",
   "name": "mycondaenv"
  },
  "language_info": {
   "codemirror_mode": {
    "name": "ipython",
    "version": 3
   },
   "file_extension": ".py",
   "mimetype": "text/x-python",
   "name": "python",
   "nbconvert_exporter": "python",
   "pygments_lexer": "ipython3",
   "version": "3.7.9"
  }
 },
 "nbformat": 4,
 "nbformat_minor": 4
}
